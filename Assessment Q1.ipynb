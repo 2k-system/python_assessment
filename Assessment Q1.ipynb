{
 "cells": [
  {
   "cell_type": "markdown",
   "id": "e5f5133a",
   "metadata": {},
   "source": [
    "Importing required Libraries"
   ]
  },
  {
   "cell_type": "code",
   "execution_count": 1,
   "id": "c5d8308a",
   "metadata": {},
   "outputs": [],
   "source": [
    "import sys"
   ]
  },
  {
   "cell_type": "markdown",
   "id": "c131583a",
   "metadata": {},
   "source": [
    "Defining Function"
   ]
  },
  {
   "cell_type": "code",
   "execution_count": 2,
   "id": "ddfba60b",
   "metadata": {},
   "outputs": [],
   "source": [
    "def wordsearch(jumbledWord): \n",
    "    matchList = [] # Creating an empty list\n",
    "    count = 0      # Setting counter to zero\n",
    "    dictionary = open('dictionary.txt') # Getting dictionary\n",
    "    # Using a for loop, traverse all the dictionary datas. \n",
    "    for item in dictionary: \n",
    "        unsortedWord = item.rstrip()  # strip the right spaces\n",
    "        sortedWord = sorted(unsortedWord.lower()) # Convert the word in lower case then creating a sorted list of characters         \n",
    "        if sortedWord == jumbledWord:  # comparing the both lists ! if matches then we have a match\n",
    "            matchList.append(unsortedWord)  # Append the word in list\n",
    "            count += 1\n",
    "\n",
    "    if count == 0:\n",
    "        sys.stdout.write('No word found in dictionary' + '\\n')\n",
    "    dictionary.close()\n",
    "    return matchList"
   ]
  },
  {
   "cell_type": "code",
   "execution_count": 5,
   "id": "0c7601fa",
   "metadata": {},
   "outputs": [],
   "source": [
    "def jumble(word):\n",
    "    # sample() method shuffling the characters of the word\n",
    "    random_word = random.sample(word, len(word))\n",
    " \n",
    "    # join() method join the elements\n",
    "    # of the iterator(e.g. list) with particular character .\n",
    "    jumbled = ''.join(random_word)\n",
    "    return jumbled"
   ]
  },
  {
   "cell_type": "code",
   "execution_count": null,
   "id": "31294406",
   "metadata": {},
   "outputs": [],
   "source": []
  }
 ],
 "metadata": {
  "kernelspec": {
   "display_name": "Python 3 (ipykernel)",
   "language": "python",
   "name": "python3"
  },
  "language_info": {
   "codemirror_mode": {
    "name": "ipython",
    "version": 3
   },
   "file_extension": ".py",
   "mimetype": "text/x-python",
   "name": "python",
   "nbconvert_exporter": "python",
   "pygments_lexer": "ipython3",
   "version": "3.9.13"
  }
 },
 "nbformat": 4,
 "nbformat_minor": 5
}
