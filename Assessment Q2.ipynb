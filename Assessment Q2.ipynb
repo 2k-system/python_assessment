{
 "cells": [
  {
   "cell_type": "markdown",
   "id": "15d0a432",
   "metadata": {},
   "source": [
    "# howManyGames"
   ]
  },
  {
   "cell_type": "markdown",
   "id": "517c2ff0",
   "metadata": {},
   "source": [
    "Importing required libraries"
   ]
  },
  {
   "cell_type": "code",
   "execution_count": 1,
   "id": "c17f35a4",
   "metadata": {},
   "outputs": [],
   "source": [
    "import math\n",
    "import os\n",
    "import random\n",
    "import re\n",
    "import sys"
   ]
  },
  {
   "cell_type": "markdown",
   "id": "e8f67230",
   "metadata": {},
   "source": [
    "Defining Function"
   ]
  },
  {
   "cell_type": "code",
   "execution_count": 2,
   "id": "a9ef455c",
   "metadata": {},
   "outputs": [],
   "source": [
    "def howManyGames(p, d, m, s):\n",
    "    res = 0\n",
    "    while s > 0:\n",
    "        res += 1\n",
    "        s -= p\n",
    "        p = max(p - d, m)\n",
    "    if s != 0:\n",
    "        res -= 1\n",
    "    return res"
   ]
  }
 ],
 "metadata": {
  "kernelspec": {
   "display_name": "Python 3 (ipykernel)",
   "language": "python",
   "name": "python3"
  },
  "language_info": {
   "codemirror_mode": {
    "name": "ipython",
    "version": 3
   },
   "file_extension": ".py",
   "mimetype": "text/x-python",
   "name": "python",
   "nbconvert_exporter": "python",
   "pygments_lexer": "ipython3",
   "version": "3.9.13"
  }
 },
 "nbformat": 4,
 "nbformat_minor": 5
}
